{
 "cells": [
  {
   "cell_type": "markdown",
   "metadata": {},
   "source": [
    "# First day: Refactoring and Pythonic code"
   ]
  },
  {
   "cell_type": "markdown",
   "metadata": {},
   "source": [
    "In this notebook I will show you 10 ways to improve your Python code. This is by no means a complete list, just some tips to get you started. The more time you spend with Python the more patterns you start to recognize and the more elegant your code will become.\n",
    "\n",
    "Then it's your turn to check your Python code written for this 100 Days and/or other Python projects and make one or more refactorings. \n",
    "\n",
    "Ideally you combine this lesson with \"Day 10 - Pytest\" to get in the habit of writing tests before doing any refactorings."
   ]
  },
  {
   "cell_type": "markdown",
   "metadata": {},
   "source": [
    "### 1. The problem with big if-elif-else constructs "
   ]
  },
  {
   "cell_type": "markdown",
   "metadata": {},
   "source": [
    "We all have seen code like this:"
   ]
  },
  {
   "cell_type": "code",
   "execution_count": 1,
   "metadata": {
    "ExecuteTime": {
     "end_time": "2018-11-19T16:23:18.201674Z",
     "start_time": "2018-11-19T16:23:18.179771Z"
    }
   },
   "outputs": [],
   "source": [
    "def get_workout(day):\n",
    "    if day == 'Monday':\n",
    "        return 'Chest+biceps'\n",
    "    elif day == 'Tuesday':\n",
    "        return 'Back+triceps'\n",
    "    elif day == 'Wednesday':\n",
    "        return 'Core'\n",
    "    elif day == 'Thursday':\n",
    "        return 'Legs'\n",
    "    elif day == 'Friday':\n",
    "        return 'Shoulders'\n",
    "    elif day in ('Saturday', 'Sunday'):\n",
    "        return 'Rest'\n",
    "    raise ValueError('Not a day')"
   ]
  },
  {
   "cell_type": "markdown",
   "metadata": {},
   "source": [
    "![coding horror ouch](coding-horror.gif)"
   ]
  },
  {
   "cell_type": "markdown",
   "metadata": {},
   "source": [
    "Not only is it ugly, it does not scale! What if we need to add _Thursday every 2nd week_ or swap out a workout routine? Much better to separate the logic from the data. A mapping / dictionary works really well here:"
   ]
  },
  {
   "cell_type": "code",
   "execution_count": 2,
   "metadata": {
    "ExecuteTime": {
     "end_time": "2018-11-19T16:23:45.155428Z",
     "start_time": "2018-11-19T16:23:45.124424Z"
    }
   },
   "outputs": [
    {
     "data": {
      "text/plain": [
       "{'Monday': 'Chest+biceps',\n",
       " 'Tuesday': 'Back+triceps',\n",
       " 'Wednesday': 'Core',\n",
       " 'Thursday': 'Legs',\n",
       " 'Friday': 'Shoulders',\n",
       " 'Saturday': 'Rest',\n",
       " 'Sunday': 'Rest'}"
      ]
     },
     "execution_count": 2,
     "metadata": {},
     "output_type": "execute_result"
    }
   ],
   "source": [
    "workouts = {\n",
    "    'Monday': 'Chest+biceps',\n",
    "    'Tuesday': 'Back+triceps',\n",
    "    'Wednesday': 'Core',\n",
    "    'Thursday': 'Legs',\n",
    "    'Friday': 'Shoulders',\n",
    "    'Saturday': 'Rest',\n",
    "    'Sunday': 'Rest',\n",
    "}\n",
    "workouts"
   ]
  },
  {
   "cell_type": "markdown",
   "metadata": {},
   "source": [
    "**Pro tip**: another nice way to define a dictionary is to zip two lists:"
   ]
  },
  {
   "cell_type": "code",
   "execution_count": 3,
   "metadata": {
    "ExecuteTime": {
     "end_time": "2018-11-19T16:24:06.028634Z",
     "start_time": "2018-11-19T16:24:06.019599Z"
    }
   },
   "outputs": [
    {
     "data": {
      "text/plain": [
       "{'Monday': 'Chest+biceps',\n",
       " 'Tuesday': 'Back+triceps',\n",
       " 'Wednesday': 'Core',\n",
       " 'Thursday': 'Legs',\n",
       " 'Friday': 'Shoulders',\n",
       " 'Saturday': 'Rest',\n",
       " 'Sunday': 'Rest'}"
      ]
     },
     "execution_count": 3,
     "metadata": {},
     "output_type": "execute_result"
    }
   ],
   "source": [
    "days = 'Monday Tuesday Wednesday Thursday Friday Saturday Sunday'.split()\n",
    "routines = 'Chest+biceps Back+triceps Core Legs Shoulders Rest Rest'.split()\n",
    "\n",
    "workouts2 = dict(zip(days, routines))\n",
    "workouts2"
   ]
  },
  {
   "cell_type": "code",
   "execution_count": 4,
   "metadata": {
    "ExecuteTime": {
     "end_time": "2018-11-19T16:24:24.317686Z",
     "start_time": "2018-11-19T16:24:24.308568Z"
    }
   },
   "outputs": [
    {
     "data": {
      "text/plain": [
       "True"
      ]
     },
     "execution_count": 4,
     "metadata": {},
     "output_type": "execute_result"
    }
   ],
   "source": [
    "workouts == workouts2"
   ]
  },
  {
   "cell_type": "markdown",
   "metadata": {},
   "source": [
    "Now look how much shorter/readable/extensible this methods becomes:"
   ]
  },
  {
   "cell_type": "code",
   "execution_count": 5,
   "metadata": {
    "ExecuteTime": {
     "end_time": "2018-11-19T16:25:14.004649Z",
     "start_time": "2018-11-19T16:25:13.999508Z"
    }
   },
   "outputs": [],
   "source": [
    "def get_workout(day):\n",
    "    routine = workouts.get(day)\n",
    "    if routine is None:\n",
    "        raise ValueError('Not a day')\n",
    "    return routine"
   ]
  },
  {
   "cell_type": "code",
   "execution_count": 6,
   "metadata": {
    "ExecuteTime": {
     "end_time": "2018-11-19T16:25:16.194448Z",
     "start_time": "2018-11-19T16:25:16.188623Z"
    }
   },
   "outputs": [
    {
     "data": {
      "text/plain": [
       "'Chest+biceps'"
      ]
     },
     "execution_count": 6,
     "metadata": {},
     "output_type": "execute_result"
    }
   ],
   "source": [
    "get_workout('Monday')"
   ]
  },
  {
   "cell_type": "code",
   "execution_count": 7,
   "metadata": {
    "ExecuteTime": {
     "end_time": "2018-11-19T16:25:17.455911Z",
     "start_time": "2018-11-19T16:25:17.450332Z"
    }
   },
   "outputs": [
    {
     "data": {
      "text/plain": [
       "'Rest'"
      ]
     },
     "execution_count": 7,
     "metadata": {},
     "output_type": "execute_result"
    }
   ],
   "source": [
    "get_workout('Saturday')"
   ]
  },
  {
   "cell_type": "code",
   "execution_count": 8,
   "metadata": {
    "ExecuteTime": {
     "end_time": "2018-11-19T16:25:23.328392Z",
     "start_time": "2018-11-19T16:25:23.120864Z"
    }
   },
   "outputs": [
    {
     "ename": "ValueError",
     "evalue": "Not a day",
     "output_type": "error",
     "traceback": [
      "\u001b[0;31m---------------------------------------------------------------------------\u001b[0m",
      "\u001b[0;31mValueError\u001b[0m                                Traceback (most recent call last)",
      "\u001b[0;32m<ipython-input-8-6b8533443f25>\u001b[0m in \u001b[0;36m<module>\u001b[0;34m\u001b[0m\n\u001b[0;32m----> 1\u001b[0;31m \u001b[0mget_workout\u001b[0m\u001b[0;34m(\u001b[0m\u001b[0;34m'nonsense'\u001b[0m\u001b[0;34m)\u001b[0m\u001b[0;34m\u001b[0m\u001b[0;34m\u001b[0m\u001b[0m\n\u001b[0m",
      "\u001b[0;32m<ipython-input-5-b061951ceb29>\u001b[0m in \u001b[0;36mget_workout\u001b[0;34m(day)\u001b[0m\n\u001b[1;32m      2\u001b[0m     \u001b[0mroutine\u001b[0m \u001b[0;34m=\u001b[0m \u001b[0mworkouts\u001b[0m\u001b[0;34m.\u001b[0m\u001b[0mget\u001b[0m\u001b[0;34m(\u001b[0m\u001b[0mday\u001b[0m\u001b[0;34m)\u001b[0m\u001b[0;34m\u001b[0m\u001b[0;34m\u001b[0m\u001b[0m\n\u001b[1;32m      3\u001b[0m     \u001b[0;32mif\u001b[0m \u001b[0mroutine\u001b[0m \u001b[0;32mis\u001b[0m \u001b[0;32mNone\u001b[0m\u001b[0;34m:\u001b[0m\u001b[0;34m\u001b[0m\u001b[0;34m\u001b[0m\u001b[0m\n\u001b[0;32m----> 4\u001b[0;31m         \u001b[0;32mraise\u001b[0m \u001b[0mValueError\u001b[0m\u001b[0;34m(\u001b[0m\u001b[0;34m'Not a day'\u001b[0m\u001b[0;34m)\u001b[0m\u001b[0;34m\u001b[0m\u001b[0;34m\u001b[0m\u001b[0m\n\u001b[0m\u001b[1;32m      5\u001b[0m     \u001b[0;32mreturn\u001b[0m \u001b[0mroutine\u001b[0m\u001b[0;34m\u001b[0m\u001b[0;34m\u001b[0m\u001b[0m\n",
      "\u001b[0;31mValueError\u001b[0m: Not a day"
     ]
    }
   ],
   "source": [
    "get_workout('nonsense')"
   ]
  },
  {
   "cell_type": "markdown",
   "metadata": {},
   "source": [
    "### 2. Counting inside a loop"
   ]
  },
  {
   "cell_type": "markdown",
   "metadata": {},
   "source": [
    "Sometimes you have to keep track of the index of an item in a sequence when looping over them. For example let's print the days and their respective index. People coming from other languages might write this:"
   ]
  },
  {
   "cell_type": "code",
   "execution_count": 9,
   "metadata": {
    "ExecuteTime": {
     "end_time": "2018-11-19T16:25:50.884525Z",
     "start_time": "2018-11-19T16:25:50.873416Z"
    }
   },
   "outputs": [],
   "source": [
    "days = 'Monday Tuesday Wednesday Thursday Friday Saturday Sunday'.split()"
   ]
  },
  {
   "cell_type": "code",
   "execution_count": 10,
   "metadata": {
    "ExecuteTime": {
     "end_time": "2018-11-19T16:25:56.937897Z",
     "start_time": "2018-11-19T16:25:56.931411Z"
    }
   },
   "outputs": [
    {
     "name": "stdout",
     "output_type": "stream",
     "text": [
      "1. Monday\n",
      "2. Tuesday\n",
      "3. Wednesday\n",
      "4. Thursday\n",
      "5. Friday\n",
      "6. Saturday\n",
      "7. Sunday\n"
     ]
    }
   ],
   "source": [
    "i = 0\n",
    "for day in days:\n",
    "    i += 1\n",
    "    print(f'{i}. {day}')"
   ]
  },
  {
   "cell_type": "markdown",
   "metadata": {},
   "source": [
    "However in Python you can use `enumerate` that saves the manual counting:"
   ]
  },
  {
   "cell_type": "code",
   "execution_count": 11,
   "metadata": {
    "ExecuteTime": {
     "end_time": "2018-11-19T16:26:02.404299Z",
     "start_time": "2018-11-19T16:26:02.398739Z"
    }
   },
   "outputs": [
    {
     "name": "stdout",
     "output_type": "stream",
     "text": [
      "1. Monday\n",
      "2. Tuesday\n",
      "3. Wednesday\n",
      "4. Thursday\n",
      "5. Friday\n",
      "6. Saturday\n",
      "7. Sunday\n"
     ]
    }
   ],
   "source": [
    "for i, day in enumerate(days):\n",
    "    print(f'{i + 1}. {day}')"
   ]
  },
  {
   "cell_type": "markdown",
   "metadata": {},
   "source": [
    "I am still doing a manual `+1`, you can add a second _start_ arg to `enumerate`:"
   ]
  },
  {
   "cell_type": "code",
   "execution_count": 12,
   "metadata": {
    "ExecuteTime": {
     "end_time": "2018-11-19T16:26:15.733315Z",
     "start_time": "2018-11-19T16:26:15.723947Z"
    }
   },
   "outputs": [
    {
     "name": "stdout",
     "output_type": "stream",
     "text": [
      "1. Monday\n",
      "2. Tuesday\n",
      "3. Wednesday\n",
      "4. Thursday\n",
      "5. Friday\n",
      "6. Saturday\n",
      "7. Sunday\n"
     ]
    }
   ],
   "source": [
    "for i, day in enumerate(days, 1):\n",
    "    print(f'{i}. {day}')"
   ]
  },
  {
   "cell_type": "markdown",
   "metadata": {},
   "source": [
    "### 3. Use the with statement to deal with resources"
   ]
  },
  {
   "cell_type": "markdown",
   "metadata": {},
   "source": [
    "Don't open/close files like this:"
   ]
  },
  {
   "cell_type": "code",
   "execution_count": 13,
   "metadata": {
    "ExecuteTime": {
     "end_time": "2018-11-19T16:26:56.133206Z",
     "start_time": "2018-11-19T16:26:56.125877Z"
    }
   },
   "outputs": [],
   "source": [
    "f = open('text', 'w')\n",
    "f.write('hello\\n')\n",
    "f.close()"
   ]
  },
  {
   "cell_type": "markdown",
   "metadata": {},
   "source": [
    "What if an exception occurs between `open` and `close`?"
   ]
  },
  {
   "cell_type": "code",
   "execution_count": 14,
   "metadata": {
    "ExecuteTime": {
     "end_time": "2018-11-19T16:27:10.757245Z",
     "start_time": "2018-11-19T16:27:10.743081Z"
    }
   },
   "outputs": [
    {
     "ename": "Exception",
     "evalue": "",
     "output_type": "error",
     "traceback": [
      "\u001b[0;31m---------------------------------------------------------------------------\u001b[0m",
      "\u001b[0;31mException\u001b[0m                                 Traceback (most recent call last)",
      "\u001b[0;32m<ipython-input-14-0aa45c3f464a>\u001b[0m in \u001b[0;36m<module>\u001b[0;34m\u001b[0m\n\u001b[1;32m      1\u001b[0m \u001b[0mf\u001b[0m \u001b[0;34m=\u001b[0m \u001b[0mopen\u001b[0m\u001b[0;34m(\u001b[0m\u001b[0;34m'text'\u001b[0m\u001b[0;34m,\u001b[0m \u001b[0;34m'w'\u001b[0m\u001b[0;34m)\u001b[0m\u001b[0;34m\u001b[0m\u001b[0;34m\u001b[0m\u001b[0m\n\u001b[1;32m      2\u001b[0m \u001b[0mf\u001b[0m\u001b[0;34m.\u001b[0m\u001b[0mwrite\u001b[0m\u001b[0;34m(\u001b[0m\u001b[0;34m'hello\\n'\u001b[0m\u001b[0;34m)\u001b[0m\u001b[0;34m\u001b[0m\u001b[0;34m\u001b[0m\u001b[0m\n\u001b[0;32m----> 3\u001b[0;31m \u001b[0;32mraise\u001b[0m \u001b[0mException\u001b[0m\u001b[0;34m\u001b[0m\u001b[0;34m\u001b[0m\u001b[0m\n\u001b[0m\u001b[1;32m      4\u001b[0m \u001b[0mf\u001b[0m\u001b[0;34m.\u001b[0m\u001b[0mclose\u001b[0m\u001b[0;34m(\u001b[0m\u001b[0;34m)\u001b[0m\u001b[0;34m\u001b[0m\u001b[0;34m\u001b[0m\u001b[0m\n",
      "\u001b[0;31mException\u001b[0m: "
     ]
    }
   ],
   "source": [
    "f = open('text', 'w')\n",
    "f.write('hello\\n')\n",
    "raise Exception\n",
    "f.close()"
   ]
  },
  {
   "cell_type": "code",
   "execution_count": 15,
   "metadata": {
    "ExecuteTime": {
     "end_time": "2018-11-19T16:27:12.802306Z",
     "start_time": "2018-11-19T16:27:12.796377Z"
    }
   },
   "outputs": [
    {
     "data": {
      "text/plain": [
       "False"
      ]
     },
     "execution_count": 15,
     "metadata": {},
     "output_type": "execute_result"
    }
   ],
   "source": [
    "f.closed"
   ]
  },
  {
   "cell_type": "markdown",
   "metadata": {},
   "source": [
    "The exception crashed the program and the file handle was left open, not good. To prevent this you could use a `try` and `finally`, latter will always hit. For example:"
   ]
  },
  {
   "cell_type": "code",
   "execution_count": 16,
   "metadata": {
    "ExecuteTime": {
     "end_time": "2018-11-19T16:27:30.468745Z",
     "start_time": "2018-11-19T16:27:30.444337Z"
    }
   },
   "outputs": [
    {
     "name": "stdout",
     "output_type": "stream",
     "text": [
      "exception raised: cannot divide by 0\n",
      "but I will always close my file handle!\n"
     ]
    }
   ],
   "source": [
    "try:\n",
    "    f = open('text', 'w')\n",
    "    f.write('hello\\n')\n",
    "    1/0\n",
    "except ZeroDivisionError:\n",
    "    print('exception raised: cannot divide by 0')\n",
    "finally:\n",
    "    print('but I will always close my file handle!')\n",
    "    f.close()"
   ]
  },
  {
   "cell_type": "code",
   "execution_count": 17,
   "metadata": {
    "ExecuteTime": {
     "end_time": "2018-11-19T16:27:35.903286Z",
     "start_time": "2018-11-19T16:27:35.897465Z"
    }
   },
   "outputs": [
    {
     "data": {
      "text/plain": [
       "True"
      ]
     },
     "execution_count": 17,
     "metadata": {},
     "output_type": "execute_result"
    }
   ],
   "source": [
    "f.closed"
   ]
  },
  {
   "cell_type": "markdown",
   "metadata": {},
   "source": [
    "This is a bit better but still not the right way. The Pythonic way to do this is to use a _context manager_ / `with` statement:"
   ]
  },
  {
   "cell_type": "code",
   "execution_count": 18,
   "metadata": {
    "ExecuteTime": {
     "end_time": "2018-11-19T16:28:35.157965Z",
     "start_time": "2018-11-19T16:28:35.136253Z"
    }
   },
   "outputs": [
    {
     "ename": "Exception",
     "evalue": "",
     "output_type": "error",
     "traceback": [
      "\u001b[0;31m---------------------------------------------------------------------------\u001b[0m",
      "\u001b[0;31mException\u001b[0m                                 Traceback (most recent call last)",
      "\u001b[0;32m<ipython-input-18-933cf7dfe90a>\u001b[0m in \u001b[0;36m<module>\u001b[0;34m\u001b[0m\n\u001b[1;32m      1\u001b[0m \u001b[0;32mwith\u001b[0m \u001b[0mopen\u001b[0m\u001b[0;34m(\u001b[0m\u001b[0;34m'text'\u001b[0m\u001b[0;34m,\u001b[0m \u001b[0;34m'w'\u001b[0m\u001b[0;34m)\u001b[0m \u001b[0;32mas\u001b[0m \u001b[0mf\u001b[0m\u001b[0;34m:\u001b[0m\u001b[0;34m\u001b[0m\u001b[0;34m\u001b[0m\u001b[0m\n\u001b[1;32m      2\u001b[0m     \u001b[0mf\u001b[0m\u001b[0;34m.\u001b[0m\u001b[0mwrite\u001b[0m\u001b[0;34m(\u001b[0m\u001b[0;34m'hello\\n'\u001b[0m\u001b[0;34m)\u001b[0m\u001b[0;34m\u001b[0m\u001b[0;34m\u001b[0m\u001b[0m\n\u001b[0;32m----> 3\u001b[0;31m     \u001b[0;32mraise\u001b[0m \u001b[0mException\u001b[0m\u001b[0;34m\u001b[0m\u001b[0;34m\u001b[0m\u001b[0m\n\u001b[0m",
      "\u001b[0;31mException\u001b[0m: "
     ]
    }
   ],
   "source": [
    "with open('text', 'w') as f:\n",
    "    f.write('hello\\n')\n",
    "    raise Exception"
   ]
  },
  {
   "cell_type": "code",
   "execution_count": 19,
   "metadata": {
    "ExecuteTime": {
     "end_time": "2018-11-19T16:28:36.555627Z",
     "start_time": "2018-11-19T16:28:36.544946Z"
    }
   },
   "outputs": [
    {
     "data": {
      "text/plain": [
       "True"
      ]
     },
     "execution_count": 19,
     "metadata": {},
     "output_type": "execute_result"
    }
   ],
   "source": [
    "f.closed"
   ]
  },
  {
   "cell_type": "markdown",
   "metadata": {},
   "source": [
    "### 4. Use builtins (learn the stdlib!)"
   ]
  },
  {
   "cell_type": "markdown",
   "metadata": {},
   "source": [
    "On our code challenges platform we noticed a lot of folks learning about builtins `range`, `sum`, `min`, `max`, etc. and their intricacies, for example `max`/`min`'s optional `key` arg we'll see in a bit."
   ]
  },
  {
   "cell_type": "markdown",
   "metadata": {},
   "source": [
    "Need a sequence of numbers? Use `range`:"
   ]
  },
  {
   "cell_type": "code",
   "execution_count": 20,
   "metadata": {
    "ExecuteTime": {
     "end_time": "2018-11-19T16:29:21.191122Z",
     "start_time": "2018-11-19T16:29:21.185575Z"
    }
   },
   "outputs": [],
   "source": [
    "numbers = range(1, 11)\n"
   ]
  },
  {
   "cell_type": "code",
   "execution_count": 21,
   "metadata": {
    "ExecuteTime": {
     "end_time": "2018-11-19T16:29:22.696647Z",
     "start_time": "2018-11-19T16:29:22.689538Z"
    }
   },
   "outputs": [
    {
     "data": {
      "text/plain": [
       "[1, 2, 3, 4, 5, 6, 7, 8, 9, 10]"
      ]
     },
     "execution_count": 21,
     "metadata": {},
     "output_type": "execute_result"
    }
   ],
   "source": [
    "list(numbers)"
   ]
  },
  {
   "cell_type": "markdown",
   "metadata": {},
   "source": [
    "Sum these numbers? Coming from another language people might do: "
   ]
  },
  {
   "cell_type": "code",
   "execution_count": 22,
   "metadata": {
    "ExecuteTime": {
     "end_time": "2018-11-19T16:29:38.805999Z",
     "start_time": "2018-11-19T16:29:38.798328Z"
    }
   },
   "outputs": [
    {
     "data": {
      "text/plain": [
       "55"
      ]
     },
     "execution_count": 22,
     "metadata": {},
     "output_type": "execute_result"
    }
   ],
   "source": [
    "total = 0\n",
    "for num in numbers:\n",
    "    total += num\n",
    "total"
   ]
  },
  {
   "cell_type": "markdown",
   "metadata": {},
   "source": [
    "Which is fine, but you can just use the `sum` builtin:"
   ]
  },
  {
   "cell_type": "code",
   "execution_count": 23,
   "metadata": {
    "ExecuteTime": {
     "end_time": "2018-11-19T16:29:42.581078Z",
     "start_time": "2018-11-19T16:29:42.574436Z"
    }
   },
   "outputs": [
    {
     "data": {
      "text/plain": [
       "55"
      ]
     },
     "execution_count": 23,
     "metadata": {},
     "output_type": "execute_result"
    }
   ],
   "source": [
    "sum(numbers)"
   ]
  },
  {
   "cell_type": "markdown",
   "metadata": {},
   "source": [
    "Another example using `max` (`min` works the same), let's see what the longest workout is:"
   ]
  },
  {
   "cell_type": "code",
   "execution_count": 24,
   "metadata": {
    "ExecuteTime": {
     "end_time": "2018-11-19T16:30:15.390094Z",
     "start_time": "2018-11-19T16:30:15.380812Z"
    }
   },
   "outputs": [
    {
     "data": {
      "text/plain": [
       "{'Chest+biceps': '45',\n",
       " 'Back+triceps': '45',\n",
       " 'Core': '30',\n",
       " 'Legs': '55',\n",
       " 'Shoulders': '45'}"
      ]
     },
     "execution_count": 24,
     "metadata": {},
     "output_type": "execute_result"
    }
   ],
   "source": [
    "routines = 'Chest+biceps Back+triceps Core Legs Shoulders'.split()\n",
    "timings = '45 45 30 55 45'.split()\n",
    "\n",
    "workout_times = dict(zip(routines, timings))\n",
    "workout_times"
   ]
  },
  {
   "cell_type": "markdown",
   "metadata": {},
   "source": [
    "The typical (verbose) way to do this (assuming we only have the `workout_times`dict, not the `timings` list):"
   ]
  },
  {
   "cell_type": "code",
   "execution_count": 25,
   "metadata": {},
   "outputs": [
    {
     "data": {
      "text/plain": [
       "('Legs', 55)"
      ]
     },
     "execution_count": 25,
     "metadata": {},
     "output_type": "execute_result"
    }
   ],
   "source": [
    "max_routine = None\n",
    "max_timing = 0\n",
    "for routine, timing in workout_times.items():\n",
    "    timing = int(timing)\n",
    "    if timing > max_timing:\n",
    "        max_routine = routine\n",
    "        max_timing = timing\n",
    "\n",
    "max_routine, max_timing"
   ]
  },
  {
   "cell_type": "markdown",
   "metadata": {},
   "source": [
    "Let's contrast that with the `max` builtin:"
   ]
  },
  {
   "cell_type": "code",
   "execution_count": 26,
   "metadata": {},
   "outputs": [
    {
     "data": {
      "text/plain": [
       "('Legs', '55')"
      ]
     },
     "execution_count": 26,
     "metadata": {},
     "output_type": "execute_result"
    }
   ],
   "source": [
    "max(workout_times.items(), key=lambda x: x[1])"
   ]
  },
  {
   "cell_type": "markdown",
   "metadata": {},
   "source": [
    "`min` works the same:"
   ]
  },
  {
   "cell_type": "code",
   "execution_count": 27,
   "metadata": {},
   "outputs": [
    {
     "data": {
      "text/plain": [
       "('Core', '30')"
      ]
     },
     "execution_count": 27,
     "metadata": {},
     "output_type": "execute_result"
    }
   ],
   "source": [
    "min(workout_times.items(), key=lambda x: x[1])"
   ]
  },
  {
   "cell_type": "markdown",
   "metadata": {},
   "source": [
    "### 5. Leverage tuple unpacking and namedtuples"
   ]
  },
  {
   "cell_type": "markdown",
   "metadata": {},
   "source": [
    "Have to swap a variable? Old (other language) style:"
   ]
  },
  {
   "cell_type": "code",
   "execution_count": 28,
   "metadata": {},
   "outputs": [
    {
     "data": {
      "text/plain": [
       "(2, 1)"
      ]
     },
     "execution_count": 28,
     "metadata": {},
     "output_type": "execute_result"
    }
   ],
   "source": [
    "a, b = 1, 2\n",
    "\n",
    "temp = a\n",
    "a = b\n",
    "b = temp\n",
    "a, b"
   ]
  },
  {
   "cell_type": "markdown",
   "metadata": {},
   "source": [
    "In Python you can just use tuple unpacking:"
   ]
  },
  {
   "cell_type": "code",
   "execution_count": 29,
   "metadata": {},
   "outputs": [
    {
     "data": {
      "text/plain": [
       "(2, 1)"
      ]
     },
     "execution_count": 29,
     "metadata": {},
     "output_type": "execute_result"
    }
   ],
   "source": [
    "a, b = 1, 2\n",
    "a, b = b, a\n",
    "a, b"
   ]
  },
  {
   "cell_type": "markdown",
   "metadata": {},
   "source": [
    "Another example is unpacking the tuple that `max` returned earlier:"
   ]
  },
  {
   "cell_type": "code",
   "execution_count": 30,
   "metadata": {},
   "outputs": [
    {
     "data": {
      "text/plain": [
       "('Legs', '55')"
      ]
     },
     "execution_count": 30,
     "metadata": {},
     "output_type": "execute_result"
    }
   ],
   "source": [
    "routine, minutes = max(workout_times.items(), key=lambda x: x[1])\n",
    "\n",
    "routine, minutes"
   ]
  },
  {
   "cell_type": "markdown",
   "metadata": {},
   "source": [
    "We covered `namedtuples` in the `Collections` lesson, but they have a place in refactoring too. When you see code like this, it's time to add some readability:"
   ]
  },
  {
   "cell_type": "code",
   "execution_count": 31,
   "metadata": {},
   "outputs": [],
   "source": [
    "workout = ('Chest+biceps', 'Monday', 45)"
   ]
  },
  {
   "cell_type": "code",
   "execution_count": 32,
   "metadata": {},
   "outputs": [
    {
     "name": "stdout",
     "output_type": "stream",
     "text": [
      "On Monday I train Chest+biceps during 45\n"
     ]
    }
   ],
   "source": [
    "print(f'On {workout[1]} I train {workout[0]} during {workout[2]}')"
   ]
  },
  {
   "cell_type": "markdown",
   "metadata": {},
   "source": [
    "This is fault prone, it is easy to mix up indices. Let's make this much more readable using a namedtuple:"
   ]
  },
  {
   "cell_type": "code",
   "execution_count": 33,
   "metadata": {},
   "outputs": [],
   "source": [
    "from collections import namedtuple\n",
    "\n",
    "Workout = namedtuple('Workout', 'routine day duration')"
   ]
  },
  {
   "cell_type": "code",
   "execution_count": 34,
   "metadata": {},
   "outputs": [
    {
     "data": {
      "text/plain": [
       "Workout(routine='Chest+biceps', day='Monday', duration=45)"
      ]
     },
     "execution_count": 34,
     "metadata": {},
     "output_type": "execute_result"
    }
   ],
   "source": [
    "workout = Workout(routine='Chest+biceps', day='Monday', duration=45)\n",
    "workout"
   ]
  },
  {
   "cell_type": "code",
   "execution_count": 35,
   "metadata": {},
   "outputs": [
    {
     "name": "stdout",
     "output_type": "stream",
     "text": [
      "On Monday I train Chest+biceps during 45\n"
     ]
    }
   ],
   "source": [
    "print(f'On {workout.day} I train {workout.routine} during {workout.duration}')"
   ]
  },
  {
   "cell_type": "markdown",
   "metadata": {},
   "source": [
    "### 6. List comprehensions and generators"
   ]
  },
  {
   "cell_type": "markdown",
   "metadata": {},
   "source": [
    "This was covered extensively day 10-12, but they are important refactoring candidates so I recap them here:"
   ]
  },
  {
   "cell_type": "code",
   "execution_count": 25,
   "metadata": {
    "ExecuteTime": {
     "end_time": "2018-11-19T16:37:36.460775Z",
     "start_time": "2018-11-19T16:37:36.457700Z"
    }
   },
   "outputs": [],
   "source": [
    "days = 'Monday Tuesday Wednesday Thursday Friday Saturday Sunday'.split()"
   ]
  },
  {
   "cell_type": "markdown",
   "metadata": {},
   "source": [
    "Get days that start with _T_, old style:"
   ]
  },
  {
   "cell_type": "code",
   "execution_count": 26,
   "metadata": {
    "ExecuteTime": {
     "end_time": "2018-11-19T16:37:37.587157Z",
     "start_time": "2018-11-19T16:37:37.578501Z"
    }
   },
   "outputs": [
    {
     "data": {
      "text/plain": [
       "['Tuesday', 'Thursday']"
      ]
     },
     "execution_count": 26,
     "metadata": {},
     "output_type": "execute_result"
    }
   ],
   "source": [
    "def get_t_days(days=days):\n",
    "    t_days = []\n",
    "    for day in days:\n",
    "        if day[0].lower() == 't':\n",
    "            t_days.append(day)\n",
    "    return t_days\n",
    "\n",
    "get_t_days()"
   ]
  },
  {
   "cell_type": "markdown",
   "metadata": {},
   "source": [
    "Rather use a list comprehension:"
   ]
  },
  {
   "cell_type": "code",
   "execution_count": 27,
   "metadata": {
    "ExecuteTime": {
     "end_time": "2018-11-19T16:37:51.580747Z",
     "start_time": "2018-11-19T16:37:51.571892Z"
    }
   },
   "outputs": [
    {
     "data": {
      "text/plain": [
       "['Tuesday', 'Thursday']"
      ]
     },
     "execution_count": 27,
     "metadata": {},
     "output_type": "execute_result"
    }
   ],
   "source": [
    "def get_t_days(days=days):\n",
    "    return [day for day in days if day[0].lower() == 't']\n",
    "\n",
    "get_t_days()"
   ]
  },
  {
   "cell_type": "markdown",
   "metadata": {},
   "source": [
    "Or a generator:"
   ]
  },
  {
   "cell_type": "code",
   "execution_count": 28,
   "metadata": {
    "ExecuteTime": {
     "end_time": "2018-11-19T16:38:16.900903Z",
     "start_time": "2018-11-19T16:38:16.894349Z"
    }
   },
   "outputs": [
    {
     "data": {
      "text/plain": [
       "['Tuesday', 'Thursday']"
      ]
     },
     "execution_count": 28,
     "metadata": {},
     "output_type": "execute_result"
    }
   ],
   "source": [
    "def get_t_days_gen(days=days):\n",
    "    for day in days:\n",
    "        if day[0].lower() == 't':\n",
    "            yield day\n",
    "\n",
    "list(get_t_days_gen())"
   ]
  },
  {
   "cell_type": "markdown",
   "metadata": {},
   "source": [
    "Use generators to yield upon demand. Here is a random day generator. Each time it is called with `next` it pauses at the `yield` statement. They are evaluated lazily so you there is no memory constraint:"
   ]
  },
  {
   "cell_type": "code",
   "execution_count": 29,
   "metadata": {
    "ExecuteTime": {
     "end_time": "2018-11-19T16:39:16.645193Z",
     "start_time": "2018-11-19T16:39:16.640435Z"
    }
   },
   "outputs": [],
   "source": [
    "from random import choice\n",
    "\n",
    "def get_random_day(days=days):\n",
    "    i = 0\n",
    "    while True:\n",
    "        i += 1\n",
    "        yield i, choice(days)"
   ]
  },
  {
   "cell_type": "code",
   "execution_count": 30,
   "metadata": {
    "ExecuteTime": {
     "end_time": "2018-11-19T16:39:17.757837Z",
     "start_time": "2018-11-19T16:39:17.752495Z"
    }
   },
   "outputs": [
    {
     "data": {
      "text/plain": [
       "<generator object get_random_day at 0x104b1ca20>"
      ]
     },
     "execution_count": 30,
     "metadata": {},
     "output_type": "execute_result"
    }
   ],
   "source": [
    "days_gen = get_random_day()\n",
    "days_gen"
   ]
  },
  {
   "cell_type": "code",
   "execution_count": 31,
   "metadata": {
    "ExecuteTime": {
     "end_time": "2018-11-19T16:39:18.850135Z",
     "start_time": "2018-11-19T16:39:18.844866Z"
    }
   },
   "outputs": [
    {
     "data": {
      "text/plain": [
       "(1, 'Tuesday')"
      ]
     },
     "execution_count": 31,
     "metadata": {},
     "output_type": "execute_result"
    }
   ],
   "source": [
    "next(days_gen)"
   ]
  },
  {
   "cell_type": "code",
   "execution_count": 32,
   "metadata": {
    "ExecuteTime": {
     "end_time": "2018-11-19T16:39:20.073163Z",
     "start_time": "2018-11-19T16:39:20.066785Z"
    }
   },
   "outputs": [
    {
     "data": {
      "text/plain": [
       "(2, 'Wednesday')"
      ]
     },
     "execution_count": 32,
     "metadata": {},
     "output_type": "execute_result"
    }
   ],
   "source": [
    "next(days_gen)"
   ]
  },
  {
   "cell_type": "code",
   "execution_count": 33,
   "metadata": {
    "ExecuteTime": {
     "end_time": "2018-11-19T16:39:23.330850Z",
     "start_time": "2018-11-19T16:39:23.323162Z"
    }
   },
   "outputs": [
    {
     "name": "stdout",
     "output_type": "stream",
     "text": [
      "(3, 'Saturday')\n",
      "(4, 'Thursday')\n",
      "(5, 'Sunday')\n",
      "(6, 'Thursday')\n",
      "(7, 'Friday')\n"
     ]
    }
   ],
   "source": [
    "for _ in range(5):\n",
    "    print(next(days_gen))"
   ]
  },
  {
   "cell_type": "code",
   "execution_count": 34,
   "metadata": {
    "ExecuteTime": {
     "end_time": "2018-11-19T16:39:39.991195Z",
     "start_time": "2018-11-19T16:39:39.987336Z"
    }
   },
   "outputs": [],
   "source": [
    "# don't try to materialize an infinite generator! this will hang:\n",
    "# list(days_gen)"
   ]
  },
  {
   "cell_type": "code",
   "execution_count": 35,
   "metadata": {
    "ExecuteTime": {
     "end_time": "2018-11-19T16:39:54.036821Z",
     "start_time": "2018-11-19T16:39:54.033101Z"
    }
   },
   "outputs": [],
   "source": [
    "from itertools import islice"
   ]
  },
  {
   "cell_type": "code",
   "execution_count": 36,
   "metadata": {
    "ExecuteTime": {
     "end_time": "2018-11-19T16:39:59.446470Z",
     "start_time": "2018-11-19T16:39:59.442353Z"
    }
   },
   "outputs": [],
   "source": [
    "slice_ = islice(days_gen, 100, 105)"
   ]
  },
  {
   "cell_type": "code",
   "execution_count": 37,
   "metadata": {
    "ExecuteTime": {
     "end_time": "2018-11-19T16:39:59.976688Z",
     "start_time": "2018-11-19T16:39:59.970654Z"
    }
   },
   "outputs": [
    {
     "data": {
      "text/plain": [
       "[(108, 'Thursday'),\n",
       " (109, 'Monday'),\n",
       " (110, 'Tuesday'),\n",
       " (111, 'Saturday'),\n",
       " (112, 'Sunday')]"
      ]
     },
     "execution_count": 37,
     "metadata": {},
     "output_type": "execute_result"
    }
   ],
   "source": [
    "list(slice_)"
   ]
  },
  {
   "cell_type": "markdown",
   "metadata": {},
   "source": [
    "### 7. String formatting and concatenation"
   ]
  },
  {
   "cell_type": "markdown",
   "metadata": {},
   "source": [
    "`There should be one-- and preferably only one --obvious way to do it.` - hm ... so why are there 4 ways to format a string?"
   ]
  },
  {
   "cell_type": "markdown",
   "metadata": {},
   "source": [
    "![string formatting in python](strings.png)"
   ]
  },
  {
   "cell_type": "markdown",
   "metadata": {},
   "source": [
    "Don't choose the ugly one:"
   ]
  },
  {
   "cell_type": "code",
   "execution_count": 49,
   "metadata": {},
   "outputs": [
    {
     "name": "stdout",
     "output_type": "stream",
     "text": [
      "The course takes 6 hours to complete\n"
     ]
    }
   ],
   "source": [
    "total_hours = 6\n",
    "print('The course takes ' + str(total_hours) + ' hours to complete')"
   ]
  },
  {
   "cell_type": "markdown",
   "metadata": {},
   "source": [
    "If on Python >= 3.6 use f-strings: "
   ]
  },
  {
   "cell_type": "code",
   "execution_count": 50,
   "metadata": {},
   "outputs": [
    {
     "name": "stdout",
     "output_type": "stream",
     "text": [
      "The course takes 6 hours to complete\n"
     ]
    }
   ],
   "source": [
    "print(f'The course takes {total_hours} hours to complete')"
   ]
  },
  {
   "cell_type": "markdown",
   "metadata": {},
   "source": [
    "If below go with `format` as second most elegant:"
   ]
  },
  {
   "cell_type": "code",
   "execution_count": 51,
   "metadata": {},
   "outputs": [
    {
     "name": "stdout",
     "output_type": "stream",
     "text": [
      "The course takes 6 hours to complete\n"
     ]
    }
   ],
   "source": [
    "print('The course takes {} hours to complete'.format(total_hours))"
   ]
  },
  {
   "cell_type": "markdown",
   "metadata": {},
   "source": [
    "Another thing is string concatenation, don't do this, it builds up a new string object over and over again:"
   ]
  },
  {
   "cell_type": "code",
   "execution_count": 52,
   "metadata": {},
   "outputs": [
    {
     "data": {
      "text/plain": [
       "'hello world, today I am happy, because I am writing Python code!'"
      ]
     },
     "execution_count": 52,
     "metadata": {},
     "output_type": "execute_result"
    }
   ],
   "source": [
    "s = 'hello world, '\n",
    "s += 'today I am happy, '\n",
    "s += 'because I am writing Python code!'\n",
    "s"
   ]
  },
  {
   "cell_type": "markdown",
   "metadata": {},
   "source": [
    "You really want to build a list first and use `join` - easier to extend and better performance:"
   ]
  },
  {
   "cell_type": "code",
   "execution_count": 53,
   "metadata": {},
   "outputs": [
    {
     "data": {
      "text/plain": [
       "'hello world, today I am happy, because I am writing Python code!'"
      ]
     },
     "execution_count": 53,
     "metadata": {},
     "output_type": "execute_result"
    }
   ],
   "source": [
    "lst = ['hello world,', 'today I am happy,', 'because I am writing Python code!']\n",
    "\n",
    "' '.join(lst)"
   ]
  },
  {
   "cell_type": "markdown",
   "metadata": {},
   "source": [
    "### 8. PEP8 and Zen"
   ]
  },
  {
   "cell_type": "markdown",
   "metadata": {},
   "source": [
    "Read and abide by [PEP8](https://www.python.org/dev/peps/pep-0008/)! See our [5 min guide to PEP8](https://pybit.es/pep8.html)\n",
    "\n",
    "Kenneth Reitz put together a nice _stylized presentation of the well-established PEP 8_ at [pep8.org](https://pep8.org).\n",
    "\n",
    "Also study and apply the _Zen of Python_. Pause the video and go to your Python REPL and type `import this`. Optionally print it out and keep it at your desk for regular reference :)"
   ]
  },
  {
   "cell_type": "markdown",
   "metadata": {},
   "source": [
    "    >>> import this\n",
    "    The Zen of Python, by Tim Peters\n",
    "\n",
    "    Beautiful is better than ugly.\n",
    "    Explicit is better than implicit.\n",
    "    Simple is better than complex.\n",
    "    Complex is better than complicated.\n",
    "    Flat is better than nested.\n",
    "    Sparse is better than dense.\n",
    "    Readability counts.\n",
    "    Special cases aren't special enough to break the rules.\n",
    "    Although practicality beats purity.\n",
    "    Errors should never pass silently.\n",
    "    Unless explicitly silenced.\n",
    "    In the face of ambiguity, refuse the temptation to guess.\n",
    "    There should be one-- and preferably only one --obvious way to do it.\n",
    "    Although that way may not be obvious at first unless you're Dutch.\n",
    "    Now is better than never.\n",
    "    Although never is often better than *right* now.\n",
    "    If the implementation is hard to explain, it's a bad idea.\n",
    "    If the implementation is easy to explain, it may be a good idea.\n",
    "    Namespaces are one honking great idea -- let's do more of those!"
   ]
  },
  {
   "cell_type": "markdown",
   "metadata": {},
   "source": [
    "### 9. Explicit is better than implicit"
   ]
  },
  {
   "cell_type": "markdown",
   "metadata": {},
   "source": [
    "A lot of bugs can be attributed to the lack of being explicit. Some examples:\n",
    "- avoid `from module import *`, you might get variable/function name clashes leading to obscure bugs\n",
    "- make sure each function returns a consistent type. Functions are like APIs, they are the contract between the developer and the enduser (function caller). If you build up a list of items for example and there are none, return [], not None or False. \n",
    "- errors should not pass silently, see next ... "
   ]
  },
  {
   "cell_type": "markdown",
   "metadata": {},
   "source": [
    "One of the worst Ptyhon _smells_ is _try-except-pass_:"
   ]
  },
  {
   "cell_type": "code",
   "execution_count": 54,
   "metadata": {},
   "outputs": [
    {
     "name": "stdout",
     "output_type": "stream",
     "text": [
      "we are going to do some tricky operation\n"
     ]
    }
   ],
   "source": [
    "try:\n",
    "    print('we are going to do some tricky operation')\n",
    "except:\n",
    "    pass"
   ]
  },
  {
   "cell_type": "markdown",
   "metadata": {},
   "source": [
    "This will eat up any exception, even a `KeyboardInterrupt` to break the program. Try to be as specific as possible, so rather than:"
   ]
  },
  {
   "cell_type": "code",
   "execution_count": 55,
   "metadata": {},
   "outputs": [],
   "source": [
    "def calc_value(num1, num2):\n",
    "    try:\n",
    "        ret = num1/num2\n",
    "    except:\n",
    "        print('shout')\n",
    "        raise"
   ]
  },
  {
   "cell_type": "code",
   "execution_count": 56,
   "metadata": {},
   "outputs": [
    {
     "name": "stdout",
     "output_type": "stream",
     "text": [
      "shout\n"
     ]
    },
    {
     "ename": "TypeError",
     "evalue": "unsupported operand type(s) for /: 'str' and 'int'",
     "output_type": "error",
     "traceback": [
      "\u001b[0;31m---------------------------------------------------------------------------\u001b[0m",
      "\u001b[0;31mTypeError\u001b[0m                                 Traceback (most recent call last)",
      "\u001b[0;32m<ipython-input-56-8bc4fead7f47>\u001b[0m in \u001b[0;36m<module>\u001b[0;34m()\u001b[0m\n\u001b[0;32m----> 1\u001b[0;31m \u001b[0mcalc_value\u001b[0m\u001b[0;34m(\u001b[0m\u001b[0;34m'1'\u001b[0m\u001b[0;34m,\u001b[0m \u001b[0;36m2\u001b[0m\u001b[0;34m)\u001b[0m\u001b[0;34m\u001b[0m\u001b[0m\n\u001b[0m",
      "\u001b[0;32m<ipython-input-55-36d47fb6e326>\u001b[0m in \u001b[0;36mcalc_value\u001b[0;34m(num1, num2)\u001b[0m\n\u001b[1;32m      1\u001b[0m \u001b[0;32mdef\u001b[0m \u001b[0mcalc_value\u001b[0m\u001b[0;34m(\u001b[0m\u001b[0mnum1\u001b[0m\u001b[0;34m,\u001b[0m \u001b[0mnum2\u001b[0m\u001b[0;34m)\u001b[0m\u001b[0;34m:\u001b[0m\u001b[0;34m\u001b[0m\u001b[0m\n\u001b[1;32m      2\u001b[0m     \u001b[0;32mtry\u001b[0m\u001b[0;34m:\u001b[0m\u001b[0;34m\u001b[0m\u001b[0m\n\u001b[0;32m----> 3\u001b[0;31m         \u001b[0mret\u001b[0m \u001b[0;34m=\u001b[0m \u001b[0mnum1\u001b[0m\u001b[0;34m/\u001b[0m\u001b[0mnum2\u001b[0m\u001b[0;34m\u001b[0m\u001b[0m\n\u001b[0m\u001b[1;32m      4\u001b[0m     \u001b[0;32mexcept\u001b[0m\u001b[0;34m:\u001b[0m\u001b[0;34m\u001b[0m\u001b[0m\n\u001b[1;32m      5\u001b[0m         \u001b[0mprint\u001b[0m\u001b[0;34m(\u001b[0m\u001b[0;34m'shout'\u001b[0m\u001b[0;34m)\u001b[0m\u001b[0;34m\u001b[0m\u001b[0m\n",
      "\u001b[0;31mTypeError\u001b[0m: unsupported operand type(s) for /: 'str' and 'int'"
     ]
    }
   ],
   "source": [
    "calc_value('1', 2)"
   ]
  },
  {
   "cell_type": "code",
   "execution_count": 57,
   "metadata": {},
   "outputs": [
    {
     "name": "stdout",
     "output_type": "stream",
     "text": [
      "shout\n"
     ]
    },
    {
     "ename": "ZeroDivisionError",
     "evalue": "division by zero",
     "output_type": "error",
     "traceback": [
      "\u001b[0;31m---------------------------------------------------------------------------\u001b[0m",
      "\u001b[0;31mZeroDivisionError\u001b[0m                         Traceback (most recent call last)",
      "\u001b[0;32m<ipython-input-57-d038a2d93147>\u001b[0m in \u001b[0;36m<module>\u001b[0;34m()\u001b[0m\n\u001b[0;32m----> 1\u001b[0;31m \u001b[0mcalc_value\u001b[0m\u001b[0;34m(\u001b[0m\u001b[0;36m1\u001b[0m\u001b[0;34m,\u001b[0m \u001b[0;36m0\u001b[0m\u001b[0;34m)\u001b[0m\u001b[0;34m\u001b[0m\u001b[0m\n\u001b[0m",
      "\u001b[0;32m<ipython-input-55-36d47fb6e326>\u001b[0m in \u001b[0;36mcalc_value\u001b[0;34m(num1, num2)\u001b[0m\n\u001b[1;32m      1\u001b[0m \u001b[0;32mdef\u001b[0m \u001b[0mcalc_value\u001b[0m\u001b[0;34m(\u001b[0m\u001b[0mnum1\u001b[0m\u001b[0;34m,\u001b[0m \u001b[0mnum2\u001b[0m\u001b[0;34m)\u001b[0m\u001b[0;34m:\u001b[0m\u001b[0;34m\u001b[0m\u001b[0m\n\u001b[1;32m      2\u001b[0m     \u001b[0;32mtry\u001b[0m\u001b[0;34m:\u001b[0m\u001b[0;34m\u001b[0m\u001b[0m\n\u001b[0;32m----> 3\u001b[0;31m         \u001b[0mret\u001b[0m \u001b[0;34m=\u001b[0m \u001b[0mnum1\u001b[0m\u001b[0;34m/\u001b[0m\u001b[0mnum2\u001b[0m\u001b[0;34m\u001b[0m\u001b[0m\n\u001b[0m\u001b[1;32m      4\u001b[0m     \u001b[0;32mexcept\u001b[0m\u001b[0;34m:\u001b[0m\u001b[0;34m\u001b[0m\u001b[0m\n\u001b[1;32m      5\u001b[0m         \u001b[0mprint\u001b[0m\u001b[0;34m(\u001b[0m\u001b[0;34m'shout'\u001b[0m\u001b[0;34m)\u001b[0m\u001b[0;34m\u001b[0m\u001b[0m\n",
      "\u001b[0;31mZeroDivisionError\u001b[0m: division by zero"
     ]
    }
   ],
   "source": [
    "calc_value(1, 0)"
   ]
  },
  {
   "cell_type": "markdown",
   "metadata": {},
   "source": [
    "Name the exceptions explicitly:"
   ]
  },
  {
   "cell_type": "code",
   "execution_count": 58,
   "metadata": {},
   "outputs": [],
   "source": [
    "def calc_value_improved(num1, num2):\n",
    "    try:\n",
    "        ret = num1/num2\n",
    "    except ZeroDivisionError:\n",
    "        print('cannot divide by 0')\n",
    "        return 0\n",
    "    except TypeError:\n",
    "        print('check if all input variables are int')\n",
    "        raise\n",
    "    except Exception as exc:\n",
    "        print(f'other exception: {exc}, reraising')\n",
    "        raise     "
   ]
  },
  {
   "cell_type": "code",
   "execution_count": 59,
   "metadata": {},
   "outputs": [
    {
     "name": "stdout",
     "output_type": "stream",
     "text": [
      "check if all input variables are int\n"
     ]
    },
    {
     "ename": "TypeError",
     "evalue": "unsupported operand type(s) for /: 'str' and 'int'",
     "output_type": "error",
     "traceback": [
      "\u001b[0;31m---------------------------------------------------------------------------\u001b[0m",
      "\u001b[0;31mTypeError\u001b[0m                                 Traceback (most recent call last)",
      "\u001b[0;32m<ipython-input-59-6bf5bc5d6379>\u001b[0m in \u001b[0;36m<module>\u001b[0;34m()\u001b[0m\n\u001b[0;32m----> 1\u001b[0;31m \u001b[0mcalc_value_improved\u001b[0m\u001b[0;34m(\u001b[0m\u001b[0;34m'1'\u001b[0m\u001b[0;34m,\u001b[0m \u001b[0;36m2\u001b[0m\u001b[0;34m)\u001b[0m\u001b[0;34m\u001b[0m\u001b[0m\n\u001b[0m",
      "\u001b[0;32m<ipython-input-58-9ca7527ebd43>\u001b[0m in \u001b[0;36mcalc_value_improved\u001b[0;34m(num1, num2)\u001b[0m\n\u001b[1;32m      1\u001b[0m \u001b[0;32mdef\u001b[0m \u001b[0mcalc_value_improved\u001b[0m\u001b[0;34m(\u001b[0m\u001b[0mnum1\u001b[0m\u001b[0;34m,\u001b[0m \u001b[0mnum2\u001b[0m\u001b[0;34m)\u001b[0m\u001b[0;34m:\u001b[0m\u001b[0;34m\u001b[0m\u001b[0m\n\u001b[1;32m      2\u001b[0m     \u001b[0;32mtry\u001b[0m\u001b[0;34m:\u001b[0m\u001b[0;34m\u001b[0m\u001b[0m\n\u001b[0;32m----> 3\u001b[0;31m         \u001b[0mret\u001b[0m \u001b[0;34m=\u001b[0m \u001b[0mnum1\u001b[0m\u001b[0;34m/\u001b[0m\u001b[0mnum2\u001b[0m\u001b[0;34m\u001b[0m\u001b[0m\n\u001b[0m\u001b[1;32m      4\u001b[0m     \u001b[0;32mexcept\u001b[0m \u001b[0mZeroDivisionError\u001b[0m\u001b[0;34m:\u001b[0m\u001b[0;34m\u001b[0m\u001b[0m\n\u001b[1;32m      5\u001b[0m         \u001b[0mprint\u001b[0m\u001b[0;34m(\u001b[0m\u001b[0;34m'cannot divide by 0'\u001b[0m\u001b[0;34m)\u001b[0m\u001b[0;34m\u001b[0m\u001b[0m\n",
      "\u001b[0;31mTypeError\u001b[0m: unsupported operand type(s) for /: 'str' and 'int'"
     ]
    }
   ],
   "source": [
    "calc_value_improved('1', 2)"
   ]
  },
  {
   "cell_type": "code",
   "execution_count": 60,
   "metadata": {},
   "outputs": [
    {
     "name": "stdout",
     "output_type": "stream",
     "text": [
      "cannot divide by 0\n"
     ]
    },
    {
     "data": {
      "text/plain": [
       "0"
      ]
     },
     "execution_count": 60,
     "metadata": {},
     "output_type": "execute_result"
    }
   ],
   "source": [
    "calc_value_improved(2, 0)"
   ]
  },
  {
   "cell_type": "markdown",
   "metadata": {},
   "source": [
    "### 10. (bonus) General coding best practices"
   ]
  },
  {
   "cell_type": "markdown",
   "metadata": {},
   "source": [
    "In [10 guidelines that will make you write more maintainable software](https://bobbelderbos.com/2016/03/building-maintainable-software/) I reviewed Software Improvement Group's book on the topic. Quality code boils down to:\n",
    "\n",
    "1. Write Short Units of Code - Short units are easier to understand.\n",
    "2. Write Simple Units of Code - Simple units are easier to test.\n",
    "3. Write Code Once - Duplicated code means duplicated bugs and duplicating changes.\n",
    "4. Keep Unit Interfaces Small - Units with small interfaces are easier to reuse.\n",
    "5. Separate Concerns in Modules - Modules with a single responsibility are easier to change.\n",
    "6. Couple Architecture Components Loosely - Independent components can be maintained in isolation.\n",
    "7. Keep Architecture Components Balanced - A balanced architecture makes it easier to find your way.\n",
    "8. Keep Your Codebase Small - A small codebase requires less effort to maintain.\n",
    "9. Automate Tests - Automated tests are repeatable, and help to prevent bugs.\n",
    "10. Write Clean Code - “Leave the campground cleaner than you found it.”\n",
    "\n",
    "See also [Improve the Quality of Your Code with Better Code Hub](https://pybit.es/bettercodehub.html)"
   ]
  },
  {
   "cell_type": "markdown",
   "metadata": {},
   "source": [
    "### Further reading:\n",
    "\n",
    "#### Related PyBites articles\n",
    "- [The Importance of Refactoring Code](https://pybit.es/refactoring.html)\n",
    "- [Errors should never pass silently](https://pybit.es/error_handling.html)\n",
    "- [Learning from Python mistakes](https://pybit.es/py-mistakes.html)\n",
    "- [Pythonic String Formatting](https://pybit.es/string-formatting.html)\n",
    "- [Beautiful, idiomatic Python](https://pybit.es/beautiful-python.html)\n",
    "- [From Script to Project - Packaging Your Code in Python](https://pybit.es/python-packaging.html)\n",
    "    \n",
    "#### Refactoring / quality code\n",
    "- [Martin Fowler's refactoring](https://martinfowler.com/books/refactoring.html)\n",
    "- [Bob Martin's Clean Code](https://www.amazon.com/Clean-Code-Handbook-Software-Craftsmanship/dp/0132350882)"
   ]
  },
  {
   "cell_type": "markdown",
   "metadata": {},
   "source": [
    "# Second and third day"
   ]
  },
  {
   "cell_type": "markdown",
   "metadata": {},
   "source": [
    "[Code Challenge 30 - The Art of Refactoring: Improve Your Code](https://codechalleng.es/challenges/30/)\n",
    "\n",
    "- Go through you code and identify something you think can be improved.\n",
    "\n",
    "- Write some tests to verify it does the right thing. This could be with `pytest`, `unittest` or just adding a simple `assert`, just have a safeguard in place before starting to touch the code. Version control is your other friend here.\n",
    "\n",
    "- Iterate over various small improvements, running the tests after each step to verify nothing breaks."
   ]
  },
  {
   "cell_type": "markdown",
   "metadata": {},
   "source": [
    "As Bonus consider using: \n",
    "- [flake8](http://flake8.pycqa.org/en/latest/) or [Pylint](https://www.pylint.org) to check style and PEP8 compliance!\n",
    "\n",
    "Optional:\n",
    "- Check the quality of your code with a tool like [BetterCodeHub](https://bettercodehub.com) (related: [Code Challenge 35 - Improve Your Python Code With BetterCodeHub](https://pybit.es/codechallenge35.html))."
   ]
  },
  {
   "cell_type": "markdown",
   "metadata": {},
   "source": [
    "Keep calm and code in Python!"
   ]
  },
  {
   "cell_type": "markdown",
   "metadata": {},
   "source": [
    "### Time to share what you've accomplished!\n",
    "\n",
    "Be sure to share your last couple of days work on Twitter or Facebook. Use the hashtag **#100DaysOfCode**.\n",
    "\n",
    "Here are [some examples](https://twitter.com/search?q=%23100DaysOfCode) to inspire you. Consider including [@talkpython](https://twitter.com/talkpython) and [@pybites](https://twitter.com/pybites) in your tweets.\n",
    "\n",
    "*See a mistake in these instructions? Please [submit a new issue](https://github.com/talkpython/100daysofcode-with-python-course/issues) or fix it and [submit a PR](https://github.com/talkpython/100daysofcode-with-python-course/pulls).*"
   ]
  },
  {
   "cell_type": "code",
   "execution_count": null,
   "metadata": {},
   "outputs": [],
   "source": []
  }
 ],
 "metadata": {
  "kernelspec": {
   "display_name": "Python 3",
   "language": "python",
   "name": "python3"
  },
  "language_info": {
   "codemirror_mode": {
    "name": "ipython",
    "version": 3
   },
   "file_extension": ".py",
   "mimetype": "text/x-python",
   "name": "python",
   "nbconvert_exporter": "python",
   "pygments_lexer": "ipython3",
   "version": "3.7.1"
  },
  "toc": {
   "base_numbering": 1,
   "nav_menu": {},
   "number_sections": false,
   "sideBar": true,
   "skip_h1_title": false,
   "title_cell": "Table of Contents",
   "title_sidebar": "Contents",
   "toc_cell": false,
   "toc_position": {},
   "toc_section_display": true,
   "toc_window_display": false
  }
 },
 "nbformat": 4,
 "nbformat_minor": 2
}
